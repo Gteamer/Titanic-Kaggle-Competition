{
 "cells": [
  {
   "cell_type": "code",
   "execution_count": 546,
   "metadata": {
    "collapsed": true
   },
   "outputs": [],
   "source": [
    "import pandas as pd\n",
    "import numpy as np\n",
    "import seaborn as sns\n",
    "import matplotlib.pyplot as plt\n",
    "\n",
    "from sklearn import preprocessing\n",
    "\n",
    "%matplotlib inline\n",
    "\n",
    "import warnings\n",
    "warnings.filterwarnings('ignore')"
   ]
  },
  {
   "cell_type": "code",
   "execution_count": 547,
   "metadata": {
    "collapsed": true
   },
   "outputs": [],
   "source": [
    "df = pd.read_csv(\"data/train.csv\")"
   ]
  },
  {
   "cell_type": "code",
   "execution_count": 548,
   "metadata": {},
   "outputs": [
    {
     "data": {
      "text/html": [
       "<div>\n",
       "<style>\n",
       "    .dataframe thead tr:only-child th {\n",
       "        text-align: right;\n",
       "    }\n",
       "\n",
       "    .dataframe thead th {\n",
       "        text-align: left;\n",
       "    }\n",
       "\n",
       "    .dataframe tbody tr th {\n",
       "        vertical-align: top;\n",
       "    }\n",
       "</style>\n",
       "<table border=\"1\" class=\"dataframe\">\n",
       "  <thead>\n",
       "    <tr style=\"text-align: right;\">\n",
       "      <th></th>\n",
       "      <th>PassengerId</th>\n",
       "      <th>Survived</th>\n",
       "      <th>Pclass</th>\n",
       "      <th>Name</th>\n",
       "      <th>Sex</th>\n",
       "      <th>Age</th>\n",
       "      <th>SibSp</th>\n",
       "      <th>Parch</th>\n",
       "      <th>Ticket</th>\n",
       "      <th>Fare</th>\n",
       "      <th>Cabin</th>\n",
       "      <th>Embarked</th>\n",
       "    </tr>\n",
       "  </thead>\n",
       "  <tbody>\n",
       "    <tr>\n",
       "      <th>0</th>\n",
       "      <td>1</td>\n",
       "      <td>0</td>\n",
       "      <td>3</td>\n",
       "      <td>Braund, Mr. Owen Harris</td>\n",
       "      <td>male</td>\n",
       "      <td>22.0</td>\n",
       "      <td>1</td>\n",
       "      <td>0</td>\n",
       "      <td>A/5 21171</td>\n",
       "      <td>7.2500</td>\n",
       "      <td>NaN</td>\n",
       "      <td>S</td>\n",
       "    </tr>\n",
       "    <tr>\n",
       "      <th>1</th>\n",
       "      <td>2</td>\n",
       "      <td>1</td>\n",
       "      <td>1</td>\n",
       "      <td>Cumings, Mrs. John Bradley (Florence Briggs Th...</td>\n",
       "      <td>female</td>\n",
       "      <td>38.0</td>\n",
       "      <td>1</td>\n",
       "      <td>0</td>\n",
       "      <td>PC 17599</td>\n",
       "      <td>71.2833</td>\n",
       "      <td>C85</td>\n",
       "      <td>C</td>\n",
       "    </tr>\n",
       "    <tr>\n",
       "      <th>2</th>\n",
       "      <td>3</td>\n",
       "      <td>1</td>\n",
       "      <td>3</td>\n",
       "      <td>Heikkinen, Miss. Laina</td>\n",
       "      <td>female</td>\n",
       "      <td>26.0</td>\n",
       "      <td>0</td>\n",
       "      <td>0</td>\n",
       "      <td>STON/O2. 3101282</td>\n",
       "      <td>7.9250</td>\n",
       "      <td>NaN</td>\n",
       "      <td>S</td>\n",
       "    </tr>\n",
       "    <tr>\n",
       "      <th>3</th>\n",
       "      <td>4</td>\n",
       "      <td>1</td>\n",
       "      <td>1</td>\n",
       "      <td>Futrelle, Mrs. Jacques Heath (Lily May Peel)</td>\n",
       "      <td>female</td>\n",
       "      <td>35.0</td>\n",
       "      <td>1</td>\n",
       "      <td>0</td>\n",
       "      <td>113803</td>\n",
       "      <td>53.1000</td>\n",
       "      <td>C123</td>\n",
       "      <td>S</td>\n",
       "    </tr>\n",
       "    <tr>\n",
       "      <th>4</th>\n",
       "      <td>5</td>\n",
       "      <td>0</td>\n",
       "      <td>3</td>\n",
       "      <td>Allen, Mr. William Henry</td>\n",
       "      <td>male</td>\n",
       "      <td>35.0</td>\n",
       "      <td>0</td>\n",
       "      <td>0</td>\n",
       "      <td>373450</td>\n",
       "      <td>8.0500</td>\n",
       "      <td>NaN</td>\n",
       "      <td>S</td>\n",
       "    </tr>\n",
       "  </tbody>\n",
       "</table>\n",
       "</div>"
      ],
      "text/plain": [
       "   PassengerId  Survived  Pclass  \\\n",
       "0            1         0       3   \n",
       "1            2         1       1   \n",
       "2            3         1       3   \n",
       "3            4         1       1   \n",
       "4            5         0       3   \n",
       "\n",
       "                                                Name     Sex   Age  SibSp  \\\n",
       "0                            Braund, Mr. Owen Harris    male  22.0      1   \n",
       "1  Cumings, Mrs. John Bradley (Florence Briggs Th...  female  38.0      1   \n",
       "2                             Heikkinen, Miss. Laina  female  26.0      0   \n",
       "3       Futrelle, Mrs. Jacques Heath (Lily May Peel)  female  35.0      1   \n",
       "4                           Allen, Mr. William Henry    male  35.0      0   \n",
       "\n",
       "   Parch            Ticket     Fare Cabin Embarked  \n",
       "0      0         A/5 21171   7.2500   NaN        S  \n",
       "1      0          PC 17599  71.2833   C85        C  \n",
       "2      0  STON/O2. 3101282   7.9250   NaN        S  \n",
       "3      0            113803  53.1000  C123        S  \n",
       "4      0            373450   8.0500   NaN        S  "
      ]
     },
     "execution_count": 548,
     "metadata": {},
     "output_type": "execute_result"
    }
   ],
   "source": [
    "df.head()"
   ]
  },
  {
   "cell_type": "code",
   "execution_count": 549,
   "metadata": {
    "collapsed": true
   },
   "outputs": [],
   "source": [
    "#X = df.drop('Survived', axis=1)"
   ]
  },
  {
   "cell_type": "code",
   "execution_count": 550,
   "metadata": {
    "collapsed": true
   },
   "outputs": [],
   "source": [
    "#y = df['Survived']"
   ]
  },
  {
   "cell_type": "code",
   "execution_count": 551,
   "metadata": {
    "collapsed": true
   },
   "outputs": [],
   "source": [
    "df.drop(['Ticket', 'PassengerId'], axis=1, inplace=True)"
   ]
  },
  {
   "cell_type": "code",
   "execution_count": 552,
   "metadata": {},
   "outputs": [
    {
     "name": "stdout",
     "output_type": "stream",
     "text": [
      "<class 'pandas.core.frame.DataFrame'>\n",
      "RangeIndex: 891 entries, 0 to 890\n",
      "Data columns (total 10 columns):\n",
      "Survived    891 non-null int64\n",
      "Pclass      891 non-null int64\n",
      "Name        891 non-null object\n",
      "Sex         891 non-null object\n",
      "Age         714 non-null float64\n",
      "SibSp       891 non-null int64\n",
      "Parch       891 non-null int64\n",
      "Fare        891 non-null float64\n",
      "Cabin       204 non-null object\n",
      "Embarked    889 non-null object\n",
      "dtypes: float64(2), int64(4), object(4)\n",
      "memory usage: 69.7+ KB\n"
     ]
    }
   ],
   "source": [
    "df.info()"
   ]
  },
  {
   "cell_type": "code",
   "execution_count": 553,
   "metadata": {},
   "outputs": [
    {
     "data": {
      "text/html": [
       "<div>\n",
       "<style>\n",
       "    .dataframe thead tr:only-child th {\n",
       "        text-align: right;\n",
       "    }\n",
       "\n",
       "    .dataframe thead th {\n",
       "        text-align: left;\n",
       "    }\n",
       "\n",
       "    .dataframe tbody tr th {\n",
       "        vertical-align: top;\n",
       "    }\n",
       "</style>\n",
       "<table border=\"1\" class=\"dataframe\">\n",
       "  <thead>\n",
       "    <tr style=\"text-align: right;\">\n",
       "      <th></th>\n",
       "      <th>Survived</th>\n",
       "      <th>Pclass</th>\n",
       "      <th>Age</th>\n",
       "      <th>SibSp</th>\n",
       "      <th>Parch</th>\n",
       "      <th>Fare</th>\n",
       "    </tr>\n",
       "  </thead>\n",
       "  <tbody>\n",
       "    <tr>\n",
       "      <th>count</th>\n",
       "      <td>891.000000</td>\n",
       "      <td>891.000000</td>\n",
       "      <td>714.000000</td>\n",
       "      <td>891.000000</td>\n",
       "      <td>891.000000</td>\n",
       "      <td>891.000000</td>\n",
       "    </tr>\n",
       "    <tr>\n",
       "      <th>mean</th>\n",
       "      <td>0.383838</td>\n",
       "      <td>2.308642</td>\n",
       "      <td>29.699118</td>\n",
       "      <td>0.523008</td>\n",
       "      <td>0.381594</td>\n",
       "      <td>32.204208</td>\n",
       "    </tr>\n",
       "    <tr>\n",
       "      <th>std</th>\n",
       "      <td>0.486592</td>\n",
       "      <td>0.836071</td>\n",
       "      <td>14.526497</td>\n",
       "      <td>1.102743</td>\n",
       "      <td>0.806057</td>\n",
       "      <td>49.693429</td>\n",
       "    </tr>\n",
       "    <tr>\n",
       "      <th>min</th>\n",
       "      <td>0.000000</td>\n",
       "      <td>1.000000</td>\n",
       "      <td>0.420000</td>\n",
       "      <td>0.000000</td>\n",
       "      <td>0.000000</td>\n",
       "      <td>0.000000</td>\n",
       "    </tr>\n",
       "    <tr>\n",
       "      <th>25%</th>\n",
       "      <td>0.000000</td>\n",
       "      <td>2.000000</td>\n",
       "      <td>20.125000</td>\n",
       "      <td>0.000000</td>\n",
       "      <td>0.000000</td>\n",
       "      <td>7.910400</td>\n",
       "    </tr>\n",
       "    <tr>\n",
       "      <th>50%</th>\n",
       "      <td>0.000000</td>\n",
       "      <td>3.000000</td>\n",
       "      <td>28.000000</td>\n",
       "      <td>0.000000</td>\n",
       "      <td>0.000000</td>\n",
       "      <td>14.454200</td>\n",
       "    </tr>\n",
       "    <tr>\n",
       "      <th>75%</th>\n",
       "      <td>1.000000</td>\n",
       "      <td>3.000000</td>\n",
       "      <td>38.000000</td>\n",
       "      <td>1.000000</td>\n",
       "      <td>0.000000</td>\n",
       "      <td>31.000000</td>\n",
       "    </tr>\n",
       "    <tr>\n",
       "      <th>max</th>\n",
       "      <td>1.000000</td>\n",
       "      <td>3.000000</td>\n",
       "      <td>80.000000</td>\n",
       "      <td>8.000000</td>\n",
       "      <td>6.000000</td>\n",
       "      <td>512.329200</td>\n",
       "    </tr>\n",
       "  </tbody>\n",
       "</table>\n",
       "</div>"
      ],
      "text/plain": [
       "         Survived      Pclass         Age       SibSp       Parch        Fare\n",
       "count  891.000000  891.000000  714.000000  891.000000  891.000000  891.000000\n",
       "mean     0.383838    2.308642   29.699118    0.523008    0.381594   32.204208\n",
       "std      0.486592    0.836071   14.526497    1.102743    0.806057   49.693429\n",
       "min      0.000000    1.000000    0.420000    0.000000    0.000000    0.000000\n",
       "25%      0.000000    2.000000   20.125000    0.000000    0.000000    7.910400\n",
       "50%      0.000000    3.000000   28.000000    0.000000    0.000000   14.454200\n",
       "75%      1.000000    3.000000   38.000000    1.000000    0.000000   31.000000\n",
       "max      1.000000    3.000000   80.000000    8.000000    6.000000  512.329200"
      ]
     },
     "execution_count": 553,
     "metadata": {},
     "output_type": "execute_result"
    }
   ],
   "source": [
    "df.describe()"
   ]
  },
  {
   "cell_type": "markdown",
   "metadata": {},
   "source": [
    "## Overall Chances of Survival "
   ]
  },
  {
   "cell_type": "code",
   "execution_count": 554,
   "metadata": {},
   "outputs": [
    {
     "name": "stdout",
     "output_type": "stream",
     "text": [
      "Chance of surviving regardless of any variable: 38%\n"
     ]
    }
   ],
   "source": [
    "print(\"Chance of surviving regardless of any variable: {0:.0f}%\".format(sum(df['Survived'])/df['Survived'].count()*100))"
   ]
  },
  {
   "cell_type": "markdown",
   "metadata": {},
   "source": [
    "## Passenger Class"
   ]
  },
  {
   "cell_type": "code",
   "execution_count": 555,
   "metadata": {},
   "outputs": [
    {
     "name": "stdout",
     "output_type": "stream",
     "text": [
      "Number survived : \n",
      "Class 1: 63% survived\n",
      "Class 2: 47% survived\n",
      "Class 3: 24% survived\n"
     ]
    },
    {
     "data": {
      "image/png": "[encoded data removed]",
      "text/plain": [
       "<matplotlib.figure.Figure at 0x10c2e8198>"
      ]
     },
     "metadata": {},
     "output_type": "display_data"
    }
   ],
   "source": [
    "fig, (ax1, ax2) = plt.subplots(nrows=1, ncols=2, figsize=(12,5))\n",
    "sns.barplot(x=df['Pclass'], y=df['Survived'], ax=ax2)\n",
    "sns.countplot(x=df['Pclass'], data=df, hue='Survived', ax=ax1)\n",
    "\n",
    "print(\"Number survived : \")\n",
    "for x in np.unique(X['Pclass']):\n",
    "    print(\"Class \" + str(x) + \": {0:.0f}% survived\".format(sum(df.loc[df['Pclass']==x,\n",
    "            'Survived'])/df.loc[df['Pclass']==x, 'Survived'].count()*100))"
   ]
  },
  {
   "cell_type": "markdown",
   "metadata": {},
   "source": [
    "## Title "
   ]
  },
  {
   "cell_type": "code",
   "execution_count": 556,
   "metadata": {},
   "outputs": [
    {
     "name": "stdout",
     "output_type": "stream",
     "text": [
      "Total Null Entries in training samples : 0\n",
      "Number survived : \n",
      "Title - Mr: 16% survived\n",
      "Title - Mrs: 79% survived\n",
      "Title - Miss: 70% survived\n",
      "Title - Master: 57% survived\n",
      "Title - No Title: 44% survived\n"
     ]
    },
    {
     "data": {
      "image/png": "[encoded data removed]",
      "text/plain": [
       "<matplotlib.figure.Figure at 0x117616f28>"
      ]
     },
     "metadata": {},
     "output_type": "display_data"
    }
   ],
   "source": [
    "print(\"Total Null Entries in training samples :\", df['Name'].isnull().sum())\n",
    "\n",
    "#Names doesn't matter much, but the title associated with it may help.\n",
    "#Extract titles from names\n",
    "df['Title'] = df[\"Name\"].map(lambda name : name.split(\".\")[0].split(\" \")[-1])\n",
    "\n",
    "titles = {\"Mr\" : \"Mr\", \"Mrs\" : \"Mrs\", \"Miss\" : \"Miss\", \"Master\" : \"Master\"}\n",
    "\n",
    "df[\"Title\"] = df[\"Title\"].map(titles)\n",
    "df[\"Title\"].fillna(\"No Title\", inplace=True)\n",
    "\n",
    "#Data Visualization\n",
    "fig = plt.subplots(nrows=1, ncols=1, figsize=(15,8))\n",
    "sns.countplot(data=df, x=\"Title\", hue=\"Survived\")\n",
    "\n",
    "titleMap = {\"Mr\" : 0, \"Mrs\" : 1, \"Miss\" : 2, \"Master\" : 3, \"No Title\" : 4}\n",
    "\n",
    "#Map titles to nominal values\n",
    "df[\"Title\"] = df[\"Title\"].map(titleMap)\n",
    "\n",
    "#Drop names\n",
    "df.drop('Name', axis=1, inplace=True)\n",
    "\n",
    "print(\"Number survived : \") \n",
    "for x in np.unique(df['Title']):\n",
    "    print(\"Title - \" + str([k for k,v in titleMap.items() if v == x])[2:-2] + \": {0:.0f}% survived\".format(\n",
    "        sum(df.loc[df['Title']==x,'Survived'])/df.loc[df['Title']==x, 'Survived'].count()*100))"
   ]
  },
  {
   "cell_type": "markdown",
   "metadata": {},
   "source": [
    "## Sex "
   ]
  },
  {
   "cell_type": "code",
   "execution_count": 557,
   "metadata": {},
   "outputs": [
    {
     "name": "stdout",
     "output_type": "stream",
     "text": [
      "Total Null Entries in training samples : 0\n",
      "Number survived : \n",
      "Sex - Male: 19% survived\n",
      "Sex - Female: 74% survived\n"
     ]
    },
    {
     "data": {
      "image/png": "[encoded data removed]",
      "text/plain": [
       "<matplotlib.figure.Figure at 0x117592668>"
      ]
     },
     "metadata": {},
     "output_type": "display_data"
    }
   ],
   "source": [
    "print(\"Total Null Entries in training samples :\", df['Sex'].isnull().sum())\n",
    "\n",
    "#Data Visualization\n",
    "sns.countplot(data=df, x=\"Sex\", hue=\"Survived\")\n",
    "\n",
    "#Map to integer data\n",
    "df[\"Sex\"] = df[\"Sex\"].map({\"male\" : 0, \"female\" : 1})\n",
    "\n",
    "sexFunction = lambda x: 'Female' if x == 1 else 'Male'\n",
    "\n",
    "print(\"Number survived : \")\n",
    "for x in np.unique(df['Sex']):\n",
    "    print(\"Sex - \" + str(sexFunction(x)) + \": {0:.0f}% survived\".format(\n",
    "        sum(df.loc[df['Sex']==x,'Survived'])/df.loc[df['Sex']==x, 'Survived'].count()*100))"
   ]
  },
  {
   "cell_type": "markdown",
   "metadata": {},
   "source": [
    "## Age "
   ]
  },
  {
   "cell_type": "code",
   "execution_count": 558,
   "metadata": {},
   "outputs": [
    {
     "name": "stdout",
     "output_type": "stream",
     "text": [
      "Total Null Entries in training samples : 177\n",
      "Number survived : \n",
      "Age Group - Children: 54% survived\n",
      "Age Group - Adults: 39% survived\n",
      "Age Group - Elderly: 34% survived\n",
      "Age Group - MissingData: 29% survived\n"
     ]
    },
    {
     "data": {
      "image/png": "[encoded data removed]",
      "text/plain": [
       "<matplotlib.figure.Figure at 0x11a4b4080>"
      ]
     },
     "metadata": {},
     "output_type": "display_data"
    }
   ],
   "source": [
    "#Number of null values\n",
    "print(\"Total Null Entries in training samples :\", df['Age'].isnull().sum())\n",
    "\n",
    "#One of the way to deal with missing values is to replace them with mean of that feature values, \n",
    "#but since there are too many null entries, I will be categorizing these entries into \n",
    "#labels - [child, adult, old, missingdata]\n",
    "\n",
    "df[\"AgeCategory\"] = \"Adults\"\n",
    "df[\"AgeCategory\"].loc[df[\"Age\"] < 18 ] = \"Children\"\n",
    "df[\"AgeCategory\"].loc[df[\"Age\"] > 50 ] = \"Elderly\"\n",
    "df[\"AgeCategory\"].loc[df[\"Age\"].isnull()] = \"MissingData\"\n",
    "\n",
    "orderList = [\"Children\", \"Adults\", \"Elderly\", \"MissingData\"]\n",
    "\n",
    "#Data Visualization\n",
    "fig, (ax1, ax2) = plt.subplots(1, 2, figsize=(12,5))\n",
    "sns.barplot(data=df, x=\"AgeCategory\", y=\"Survived\", hue='Sex', ax=ax1, order=orderList)\n",
    "sns.countplot(data=df, x=\"AgeCategory\", hue=\"Survived\", ax=ax2, order=orderList)\n",
    "\n",
    "ageMap = {\"Children\" : 0, \"Adults\" : 1, \"Elderly\" : 2, \"MissingData\" : 3}\n",
    "\n",
    "#Map to integer data\n",
    "df[\"AgeCategory\"] = df[\"AgeCategory\"].map(ageMap)\n",
    "\n",
    "#Drop Age\n",
    "df.drop(\"Age\", axis=1, inplace=True)\n",
    "\n",
    "print(\"Number survived : \")\n",
    "for x in np.unique(df['AgeCategory']):\n",
    "    print(\"Age Group - \" + str([k for k,v in ageMap.items() if v == x])[2:-2] + \": {0:.0f}% survived\".format(\n",
    "        sum(df.loc[df['AgeCategory']==x,'Survived'])/df.loc[df['AgeCategory']==x, 'Survived'].count()*100))"
   ]
  },
  {
   "cell_type": "markdown",
   "metadata": {},
   "source": [
    "## Family Size and Alone or with Family "
   ]
  },
  {
   "cell_type": "code",
   "execution_count": 559,
   "metadata": {},
   "outputs": [
    {
     "name": "stdout",
     "output_type": "stream",
     "text": [
      "Number survived : \n",
      "Alone or With Family? - Alone: 30% survived\n",
      "Alone or With Family? - With Family: 51% survived\n",
      "Number survived : \n",
      "Family Size - Small: 30% survived\n",
      "Family Size - Medium: 56% survived\n",
      "Family Size - Large: 15% survived\n"
     ]
    },
    {
     "data": {
      "image/png": "[encoded data removed]",
      "text/plain": [
       "<matplotlib.figure.Figure at 0x119420fd0>"
      ]
     },
     "metadata": {},
     "output_type": "display_data"
    },
    {
     "data": {
      "image/png": "[encoded data removed]",
      "text/plain": [
       "<matplotlib.figure.Figure at 0x118c31908>"
      ]
     },
     "metadata": {},
     "output_type": "display_data"
    }
   ],
   "source": [
    "#From sibSp and Parch, we can add whether a person has a family or not.\n",
    "#Also we will create another feature determining number of family members onboard.\n",
    "\n",
    "df['Family'] = df['SibSp'] + df['Parch'] + 1\n",
    "df['FamilySize'] = df['Family']\n",
    "df['FamilySize'].loc[df['Family'] == 1] = \"Small\"\n",
    "df['FamilySize'].loc[df['Family'] > 1] = \"Medium\"\n",
    "df['FamilySize'].loc[df['Family'] > 5] = \"Large\"\n",
    "df['Family'].loc[df['Family'] > 1] = 'withFamily'\n",
    "df['Family'].loc[df['Family'] == 1] = 'Alone'\n",
    "\n",
    "orderList = [\"Small\", \"Medium\", \"Large\"]\n",
    "familyMap = {\"Small\" : 0, \"Medium\" : 1, \"Large\" : 2}\n",
    "\n",
    "#Data Visualization\n",
    "fig, (ax1, ax2) = plt.subplots(1, 2, figsize=(12,5))\n",
    "sns.barplot(data=df, x=\"Family\", y=\"Survived\", ax=ax1)\n",
    "sns.countplot(data=df, x=\"Family\", hue=\"Survived\", ax=ax2)\n",
    "fig, (ax3, ax4) = plt.subplots(1, 2, figsize=(12,5))\n",
    "sns.barplot(data=df, x=\"FamilySize\", y=\"Survived\", ax=ax3, order=orderList)\n",
    "sns.countplot(data=df, x=\"FamilySize\", hue=\"Survived\", ax=ax4, order=orderList)\n",
    "\n",
    "\n",
    "#Map to integral values\n",
    "df[\"Family\"] = df[\"Family\"].map({\"Alone\" : 0, \"withFamily\" : 1})\n",
    "df[\"FamilySize\"] = df[\"FamilySize\"].map(familyMap)\n",
    "\n",
    "#Drop SibSp and Parch Columns\n",
    "df.drop([\"Parch\", \"SibSp\"], axis=1, inplace=True)\n",
    "\n",
    "familyFunction = lambda x: 'With Family' if x == 1 else 'Alone'\n",
    "\n",
    "print(\"Number survived : \")\n",
    "for x in np.unique(df['Family']):\n",
    "    print(\"Alone or With Family? - \" + str(familyFunction(x)) + \": {0:.0f}% survived\".format(\n",
    "        sum(df.loc[df['Family']==x,'Survived'])/df.loc[df['Family']==x, 'Survived'].count()*100))\n",
    "    \n",
    "print(\"Number survived : \")\n",
    "for x in np.unique(df['FamilySize']):\n",
    "    print(\"Family Size - \" + str([k for k,v in familyMap.items() if v == x])[2:-2] + \": {0:.0f}% survived\".format(\n",
    "        sum(df.loc[df['FamilySize']==x,'Survived'])/df.loc[df['FamilySize']==x, 'Survived'].count()*100))"
   ]
  },
  {
   "cell_type": "markdown",
   "metadata": {},
   "source": [
    "## Ticket Price (Fare) "
   ]
  },
  {
   "cell_type": "code",
   "execution_count": 560,
   "metadata": {},
   "outputs": [
    {
     "name": "stdout",
     "output_type": "stream",
     "text": [
      "Total Null Entries in training samples : 0\n",
      "Number survived : \n",
      "Ticket Price - Under $100: 38% survived\n"
     ]
    },
    {
     "data": {
      "image/png": "[encoded data removed]",
      "text/plain": [
       "<matplotlib.figure.Figure at 0x11a026f60>"
      ]
     },
     "metadata": {},
     "output_type": "display_data"
    },
    {
     "data": {
      "image/png": "[encoded data removed]",
      "text/plain": [
       "<matplotlib.figure.Figure at 0x119a9ee48>"
      ]
     },
     "metadata": {},
     "output_type": "display_data"
    }
   ],
   "source": [
    "#Number of null values\n",
    "print(\"Total Null Entries in training samples :\", df['Fare'].isnull().sum())\n",
    "\n",
    "#Data Visualization\n",
    "fig = plt.figure(figsize=(15,8))\n",
    "plt.hist([df[df[\"Survived\"]==0][\"Fare\"], df[df[\"Survived\"]==1][\"Fare\"]], \n",
    "         stacked=True, bins=20, label=['Dead', 'Survived'])\n",
    "plt.xlabel(\"Fare Range\")\n",
    "plt.ylabel(\"Count\")\n",
    "plt.legend()\n",
    "\n",
    "#Fare data contains some extreme values which can be normalized\n",
    "scale = preprocessing.MinMaxScaler()\n",
    "df['normalizedFare'] = scale.fit_transform(df['Fare'].reshape(-1,1))\n",
    "\n",
    "#Data Visualization\n",
    "fig = plt.figure(figsize=(15,8))\n",
    "plt.hist([df[df[\"Survived\"]==0][\"normalizedFare\"], df[df[\"Survived\"]==1][\"normalizedFare\"]], \n",
    "         stacked=True, bins=10, label=['Dead', 'Survived'])\n",
    "plt.xlabel(\"Normalized Fare Range\")\n",
    "plt.ylabel(\"Count\")\n",
    "plt.legend()\n",
    "\n",
    "df[\"TicketPrice\"] = df[\"normalizedFare\"].apply(lambda x: 1 if x > 100 else 0)\n",
    "\n",
    "df.drop(\"Fare\", axis=1, inplace=True)\n",
    "\n",
    "fareFunction = lambda x: 'Over $100' if x == 1 else 'Under $100'\n",
    "\n",
    "print(\"Number survived : \")\n",
    "for x in np.unique(df['TicketPrice']):\n",
    "    print(\"Ticket Price - \" + str(fareFunction(x)) + \": {0:.0f}% survived\".format(\n",
    "        sum(df.loc[df['TicketPrice']==x,'Survived'])/df.loc[df['TicketPrice']==x, 'Survived'].count()*100))"
   ]
  },
  {
   "cell_type": "markdown",
   "metadata": {},
   "source": [
    "## Embarked "
   ]
  },
  {
   "cell_type": "code",
   "execution_count": 561,
   "metadata": {},
   "outputs": [
    {
     "name": "stdout",
     "output_type": "stream",
     "text": [
      "Total Null Entries in training samples : 2\n",
      "Most People Embarked from : S\n",
      "Number survived : \n",
      "Embarked from Port S: 34% survived\n",
      "Embarked from Port C: 55% survived\n",
      "Embarked from Port Q: 39% survived\n"
     ]
    },
    {
     "data": {
      "image/png": "[encoded data removed]",
      "text/plain": [
       "<matplotlib.figure.Figure at 0x119471eb8>"
      ]
     },
     "metadata": {},
     "output_type": "display_data"
    }
   ],
   "source": [
    "#Number of null values\n",
    "print(\"Total Null Entries in training samples :\", df['Embarked'].isnull().sum())\n",
    "\n",
    "#Fill missing values with maximum occurence of embarked category\n",
    "print(\"Most People Embarked from :\", df['Embarked'].describe()['top'])\n",
    "df['Embarked'].fillna('S', inplace=True)\n",
    "\n",
    "embarkedMap = {\"S\" : 0, \"C\" : 1, \"Q\" : 2}\n",
    "\n",
    "#Data Visualization\n",
    "fig = plt.subplots(figsize=(12,5))\n",
    "sns.countplot(data=df, x=\"Embarked\", hue=\"Survived\")\n",
    "\n",
    "#Map Ports to integral values\n",
    "df[\"Embarked\"] = df[\"Embarked\"].map(embarkedMap)\n",
    "\n",
    "print(\"Number survived : \")\n",
    "for x in np.unique(df['Embarked']):\n",
    "    print(\"Embarked from Port \" + str([k for k,v in embarkedMap.items() if v == x])[2:-2] + \": {0:.0f}% survived\".format(\n",
    "        sum(df.loc[df['Embarked']==x,'Survived'])/df.loc[df['Embarked']==x, 'Survived'].count()*100))"
   ]
  },
  {
   "cell_type": "code",
   "execution_count": 562,
   "metadata": {},
   "outputs": [
    {
     "data": {
      "text/html": [
       "<div>\n",
       "<style>\n",
       "    .dataframe thead tr:only-child th {\n",
       "        text-align: right;\n",
       "    }\n",
       "\n",
       "    .dataframe thead th {\n",
       "        text-align: left;\n",
       "    }\n",
       "\n",
       "    .dataframe tbody tr th {\n",
       "        vertical-align: top;\n",
       "    }\n",
       "</style>\n",
       "<table border=\"1\" class=\"dataframe\">\n",
       "  <thead>\n",
       "    <tr style=\"text-align: right;\">\n",
       "      <th></th>\n",
       "      <th>Survived</th>\n",
       "      <th>Pclass</th>\n",
       "      <th>Sex</th>\n",
       "      <th>Cabin</th>\n",
       "      <th>Embarked</th>\n",
       "      <th>Title</th>\n",
       "      <th>AgeCategory</th>\n",
       "      <th>Family</th>\n",
       "      <th>FamilySize</th>\n",
       "      <th>normalizedFare</th>\n",
       "      <th>TicketPrice</th>\n",
       "    </tr>\n",
       "  </thead>\n",
       "  <tbody>\n",
       "    <tr>\n",
       "      <th>0</th>\n",
       "      <td>0</td>\n",
       "      <td>3</td>\n",
       "      <td>0</td>\n",
       "      <td>NaN</td>\n",
       "      <td>0</td>\n",
       "      <td>0</td>\n",
       "      <td>1</td>\n",
       "      <td>1</td>\n",
       "      <td>1</td>\n",
       "      <td>0.014151</td>\n",
       "      <td>0</td>\n",
       "    </tr>\n",
       "    <tr>\n",
       "      <th>1</th>\n",
       "      <td>1</td>\n",
       "      <td>1</td>\n",
       "      <td>1</td>\n",
       "      <td>C85</td>\n",
       "      <td>1</td>\n",
       "      <td>1</td>\n",
       "      <td>1</td>\n",
       "      <td>1</td>\n",
       "      <td>1</td>\n",
       "      <td>0.139136</td>\n",
       "      <td>0</td>\n",
       "    </tr>\n",
       "    <tr>\n",
       "      <th>2</th>\n",
       "      <td>1</td>\n",
       "      <td>3</td>\n",
       "      <td>1</td>\n",
       "      <td>NaN</td>\n",
       "      <td>0</td>\n",
       "      <td>2</td>\n",
       "      <td>1</td>\n",
       "      <td>0</td>\n",
       "      <td>0</td>\n",
       "      <td>0.015469</td>\n",
       "      <td>0</td>\n",
       "    </tr>\n",
       "    <tr>\n",
       "      <th>3</th>\n",
       "      <td>1</td>\n",
       "      <td>1</td>\n",
       "      <td>1</td>\n",
       "      <td>C123</td>\n",
       "      <td>0</td>\n",
       "      <td>1</td>\n",
       "      <td>1</td>\n",
       "      <td>1</td>\n",
       "      <td>1</td>\n",
       "      <td>0.103644</td>\n",
       "      <td>0</td>\n",
       "    </tr>\n",
       "    <tr>\n",
       "      <th>4</th>\n",
       "      <td>0</td>\n",
       "      <td>3</td>\n",
       "      <td>0</td>\n",
       "      <td>NaN</td>\n",
       "      <td>0</td>\n",
       "      <td>0</td>\n",
       "      <td>1</td>\n",
       "      <td>0</td>\n",
       "      <td>0</td>\n",
       "      <td>0.015713</td>\n",
       "      <td>0</td>\n",
       "    </tr>\n",
       "  </tbody>\n",
       "</table>\n",
       "</div>"
      ],
      "text/plain": [
       "   Survived  Pclass  Sex Cabin  Embarked  Title  AgeCategory  Family  \\\n",
       "0         0       3    0   NaN         0      0            1       1   \n",
       "1         1       1    1   C85         1      1            1       1   \n",
       "2         1       3    1   NaN         0      2            1       0   \n",
       "3         1       1    1  C123         0      1            1       1   \n",
       "4         0       3    0   NaN         0      0            1       0   \n",
       "\n",
       "   FamilySize  normalizedFare  TicketPrice  \n",
       "0           1        0.014151            0  \n",
       "1           1        0.139136            0  \n",
       "2           0        0.015469            0  \n",
       "3           1        0.103644            0  \n",
       "4           0        0.015713            0  "
      ]
     },
     "execution_count": 562,
     "metadata": {},
     "output_type": "execute_result"
    }
   ],
   "source": [
    "df.head()"
   ]
  },
  {
   "cell_type": "code",
   "execution_count": 564,
   "metadata": {
    "collapsed": true
   },
   "outputs": [],
   "source": [
    "df.drop(\"Cabin\", axis=1, inplace=True)"
   ]
  },
  {
   "cell_type": "code",
   "execution_count": 565,
   "metadata": {},
   "outputs": [
    {
     "data": {
      "text/html": [
       "<div>\n",
       "<style>\n",
       "    .dataframe thead tr:only-child th {\n",
       "        text-align: right;\n",
       "    }\n",
       "\n",
       "    .dataframe thead th {\n",
       "        text-align: left;\n",
       "    }\n",
       "\n",
       "    .dataframe tbody tr th {\n",
       "        vertical-align: top;\n",
       "    }\n",
       "</style>\n",
       "<table border=\"1\" class=\"dataframe\">\n",
       "  <thead>\n",
       "    <tr style=\"text-align: right;\">\n",
       "      <th></th>\n",
       "      <th>Survived</th>\n",
       "      <th>Pclass</th>\n",
       "      <th>Sex</th>\n",
       "      <th>Embarked</th>\n",
       "      <th>Title</th>\n",
       "      <th>AgeCategory</th>\n",
       "      <th>Family</th>\n",
       "      <th>FamilySize</th>\n",
       "      <th>normalizedFare</th>\n",
       "      <th>TicketPrice</th>\n",
       "    </tr>\n",
       "  </thead>\n",
       "  <tbody>\n",
       "    <tr>\n",
       "      <th>0</th>\n",
       "      <td>0</td>\n",
       "      <td>3</td>\n",
       "      <td>0</td>\n",
       "      <td>0</td>\n",
       "      <td>0</td>\n",
       "      <td>1</td>\n",
       "      <td>1</td>\n",
       "      <td>1</td>\n",
       "      <td>0.014151</td>\n",
       "      <td>0</td>\n",
       "    </tr>\n",
       "    <tr>\n",
       "      <th>1</th>\n",
       "      <td>1</td>\n",
       "      <td>1</td>\n",
       "      <td>1</td>\n",
       "      <td>1</td>\n",
       "      <td>1</td>\n",
       "      <td>1</td>\n",
       "      <td>1</td>\n",
       "      <td>1</td>\n",
       "      <td>0.139136</td>\n",
       "      <td>0</td>\n",
       "    </tr>\n",
       "    <tr>\n",
       "      <th>2</th>\n",
       "      <td>1</td>\n",
       "      <td>3</td>\n",
       "      <td>1</td>\n",
       "      <td>0</td>\n",
       "      <td>2</td>\n",
       "      <td>1</td>\n",
       "      <td>0</td>\n",
       "      <td>0</td>\n",
       "      <td>0.015469</td>\n",
       "      <td>0</td>\n",
       "    </tr>\n",
       "    <tr>\n",
       "      <th>3</th>\n",
       "      <td>1</td>\n",
       "      <td>1</td>\n",
       "      <td>1</td>\n",
       "      <td>0</td>\n",
       "      <td>1</td>\n",
       "      <td>1</td>\n",
       "      <td>1</td>\n",
       "      <td>1</td>\n",
       "      <td>0.103644</td>\n",
       "      <td>0</td>\n",
       "    </tr>\n",
       "    <tr>\n",
       "      <th>4</th>\n",
       "      <td>0</td>\n",
       "      <td>3</td>\n",
       "      <td>0</td>\n",
       "      <td>0</td>\n",
       "      <td>0</td>\n",
       "      <td>1</td>\n",
       "      <td>0</td>\n",
       "      <td>0</td>\n",
       "      <td>0.015713</td>\n",
       "      <td>0</td>\n",
       "    </tr>\n",
       "  </tbody>\n",
       "</table>\n",
       "</div>"
      ],
      "text/plain": [
       "   Survived  Pclass  Sex  Embarked  Title  AgeCategory  Family  FamilySize  \\\n",
       "0         0       3    0         0      0            1       1           1   \n",
       "1         1       1    1         1      1            1       1           1   \n",
       "2         1       3    1         0      2            1       0           0   \n",
       "3         1       1    1         0      1            1       1           1   \n",
       "4         0       3    0         0      0            1       0           0   \n",
       "\n",
       "   normalizedFare  TicketPrice  \n",
       "0        0.014151            0  \n",
       "1        0.139136            0  \n",
       "2        0.015469            0  \n",
       "3        0.103644            0  \n",
       "4        0.015713            0  "
      ]
     },
     "execution_count": 565,
     "metadata": {},
     "output_type": "execute_result"
    }
   ],
   "source": [
    "df.head()"
   ]
  },
  {
   "cell_type": "code",
   "execution_count": 566,
   "metadata": {
    "collapsed": true
   },
   "outputs": [],
   "source": [
    "df.to_csv('data/Cleaned Data.csv')"
   ]
  },
  {
   "cell_type": "code",
   "execution_count": null,
   "metadata": {
    "collapsed": true
   },
   "outputs": [],
   "source": []
  }
 ],
 "metadata": {
  "kernelspec": {
   "display_name": "Python 3",
   "language": "python",
   "name": "python3"
  },
  "language_info": {
   "codemirror_mode": {
    "name": "ipython",
    "version": 3
   },
   "file_extension": ".py",
   "mimetype": "text/x-python",
   "name": "python",
   "nbconvert_exporter": "python",
   "pygments_lexer": "ipython3",
   "version": "3.6.1"
  }
 },
 "nbformat": 4,
 "nbformat_minor": 2
}
